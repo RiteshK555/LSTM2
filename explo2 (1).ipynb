{
  "nbformat": 4,
  "nbformat_minor": 0,
  "metadata": {
    "colab": {
      "name": "explo2.ipynb",
      "provenance": [],
      "collapsed_sections": []
    },
    "kernelspec": {
      "name": "python3",
      "display_name": "Python 3"
    },
    "language_info": {
      "name": "python"
    }
  },
  "cells": [
    {
      "cell_type": "markdown",
      "source": [
        "Mount google drive"
      ],
      "metadata": {
        "id": "mApnuLzDVx9u"
      }
    },
    {
      "cell_type": "code",
      "source": [
        "from google.colab import drive\n",
        "drive.mount('/content/drive')"
      ],
      "metadata": {
        "colab": {
          "base_uri": "https://localhost:8080/"
        },
        "id": "0zcs5d72WQ2X",
        "outputId": "de6c8ce5-11d0-47f2-9d0c-2a077be26879"
      },
      "execution_count": null,
      "outputs": [
        {
          "output_type": "stream",
          "name": "stdout",
          "text": [
            "Mounted at /content/drive\n"
          ]
        }
      ]
    },
    {
      "cell_type": "markdown",
      "source": [
        "Imports"
      ],
      "metadata": {
        "id": "xGwC7HSwWaB7"
      }
    },
    {
      "cell_type": "code",
      "source": [
        "import pandas as pd\n",
        "import numpy as np\n",
        "from tensorflow.keras.utils import to_categorical\n",
        "from tensorflow import keras\n",
        "import os\n",
        "import tensorflow as tf\n",
        "import logging\n",
        "from matplotlib import pyplot as plt\n",
        "from keras.models import Sequential\n",
        "from keras.layers import LSTM,Dropout,Dense,Embedding,Masking,LayerNormalization\n",
        "import seaborn as sns\n",
        "from sklearn.metrics import confusion_matrix"
      ],
      "metadata": {
        "id": "UVDbMsPBWiNb"
      },
      "execution_count": null,
      "outputs": []
    },
    {
      "cell_type": "markdown",
      "source": [
        "Data preprocessing"
      ],
      "metadata": {
        "id": "EFQSgrsIqHMi"
      }
    },
    {
      "cell_type": "code",
      "source": [
        "scaler = StandardScaler()\n",
        "root0='/HandwrittenDigitsData/'\n",
        "df=pd.DataFrame()\n",
        "for a in range(20):\n",
        "    root1=root0+'P'+str(a+1)+'/'\n",
        "    for b in range(10):\n",
        "        root2 = root1+'D'+str(b)+'/'\n",
        "        for c in range(50):\n",
        "            root3 = root2 + str(c+1)+'_'+'D'+str(b)+'.csv'\n",
        "            temp=pd.read_csv(root3)\n",
        "            cols = temp.columns\n",
        "            print(root3)\n",
        "            temp=scaler.fit_transform(temp)\n",
        "            temp=pd.DataFrame(temp,columns=cols)\n",
        "            temp=temp.reindex(range(500),fill_value=0)\n",
        "            df=df.append(temp)\n",
        "print(df.head)\n",
        "df.to_csv('./train.csv',index=False)\n",
        "df1=df.iloc[:3500000,:]\n",
        "df2=df.iloc[3500000:,:]\n",
        "df1.to_csv('./ntrainx.csv',index=False)\n",
        "df2.to_csv('./ntrainy.csv',index=False)"
      ],
      "metadata": {
        "id": "oIw0XT5mqFRN"
      },
      "execution_count": null,
      "outputs": []
    },
    {
      "cell_type": "markdown",
      "source": [
        "Loading data"
      ],
      "metadata": {
        "id": "ABx3cbbqVoPb"
      }
    },
    {
      "cell_type": "code",
      "source": [
        "df = pd.read_csv('/content/drive/MyDrive/data/ntrainx.csv')\n",
        "df2=pd.read_csv('/content/drive/MyDrive/data/trainy.csv')\n",
        "df3=pd.read_csv('/content/drive/MyDrive/data/ntestx.csv')\n",
        "df4=pd.read_csv('/content/drive/MyDrive/data/testy.csv')"
      ],
      "metadata": {
        "id": "ST6Vtj9jVeVE"
      },
      "execution_count": null,
      "outputs": []
    },
    {
      "cell_type": "markdown",
      "source": [
        "reshaping the data to correct proportions"
      ],
      "metadata": {
        "id": "EjL10E9yVrjL"
      }
    },
    {
      "cell_type": "code",
      "source": [
        "arr =np.array(df)\n",
        "arr= arr.reshape(7000,500,9)\n",
        "df2=to_categorical(df2)\n",
        "arr2=np.array(df3)\n",
        "arr2=arr2.reshape(3000,500,9)\n",
        "df4=to_categorical(df4)"
      ],
      "metadata": {
        "id": "H_UUiGBrVI5V"
      },
      "execution_count": null,
      "outputs": []
    },
    {
      "cell_type": "markdown",
      "source": [
        "Sequential api - used for creating models layer by layer"
      ],
      "metadata": {
        "id": "CCELQkrEWKSS"
      }
    },
    {
      "cell_type": "code",
      "source": [
        "model = Sequential()"
      ],
      "metadata": {
        "id": "X0OAjMbwV57N"
      },
      "execution_count": null,
      "outputs": []
    },
    {
      "cell_type": "markdown",
      "source": [
        "Masking"
      ],
      "metadata": {
        "id": "7cQgK7vmWQkj"
      }
    },
    {
      "cell_type": "code",
      "source": [
        "model.add(Masking(mask_value=0, input_shape=(500, 9)))"
      ],
      "metadata": {
        "id": "5MTQUffXWSQq"
      },
      "execution_count": null,
      "outputs": []
    },
    {
      "cell_type": "markdown",
      "source": [
        "LSTM layer"
      ],
      "metadata": {
        "id": "b1jpHx6RWdQJ"
      }
    },
    {
      "cell_type": "code",
      "source": [
        "model.add(LSTM(100,input_shape=(500,9)))"
      ],
      "metadata": {
        "id": "C-TGUGpuWdtb"
      },
      "execution_count": null,
      "outputs": []
    },
    {
      "cell_type": "markdown",
      "source": [
        "Layer normalization"
      ],
      "metadata": {
        "id": "ZiRX6H1QWhTa"
      }
    },
    {
      "cell_type": "code",
      "source": [
        "model.add(LayerNormalization())"
      ],
      "metadata": {
        "id": "yqI7sInRWjvk"
      },
      "execution_count": null,
      "outputs": []
    },
    {
      "cell_type": "markdown",
      "source": [
        "Output layer"
      ],
      "metadata": {
        "id": "NltL0WbxWk6D"
      }
    },
    {
      "cell_type": "code",
      "source": [
        "model.add(Dense(10,activation='softmax'))"
      ],
      "metadata": {
        "id": "NvUQub7sWoM_"
      },
      "execution_count": null,
      "outputs": []
    },
    {
      "cell_type": "markdown",
      "source": [
        "Compiling"
      ],
      "metadata": {
        "id": "xqcq17K7Wpab"
      }
    },
    {
      "cell_type": "code",
      "source": [
        "model.compile(loss='categorical_crossentropy',optimizer=\"adam\",metrics=['accuracy'])"
      ],
      "metadata": {
        "id": "lpw4IfWKWqrr"
      },
      "execution_count": null,
      "outputs": []
    },
    {
      "cell_type": "markdown",
      "source": [
        "Training"
      ],
      "metadata": {
        "id": "thPUxqP9WsgV"
      }
    },
    {
      "cell_type": "code",
      "source": [
        "history=model.fit(arr,df2,epochs= 100,batch_size=32,validation_data=(arr2,df4),callbacks=[\n",
        "  keras.callbacks.ModelCheckpoint('/content/drive/MyDrive/data/checkpoint',monitor=\"val_accuracy\",mode=\"max\",save_best_only=True,save_freq=\"epoch\"),\n",
        "])"
      ],
      "metadata": {
        "id": "T4QuVSu8Wvtz"
      },
      "execution_count": null,
      "outputs": []
    },
    {
      "cell_type": "markdown",
      "source": [
        "Testing"
      ],
      "metadata": {
        "id": "JdNMYK7EaqvH"
      }
    },
    {
      "cell_type": "code",
      "source": [
        "model =tf.keras.models.load_model(\"/content/drive/MyDrive/data/checkpoint/\")\n",
        "prediction= model.predict(arr2)\n",
        "accuracy=model.evaluate(arr2,df4)\n",
        "ax=plt.subplot()\n",
        "matrix_confusion = confusion_matrix(np.argmax(df4,axis=1), np.argmax(prediction,axis=1))\n",
        "sns.heatmap(matrix_confusion,ax=ax)\n",
        "ax.set_xlabel('observed')\n",
        "ax.set_ylabel('predicted')"
      ],
      "metadata": {
        "id": "5hmPrA8SV2l6",
        "colab": {
          "base_uri": "https://localhost:8080/",
          "height": 331
        },
        "outputId": "5e627d5d-8deb-4f6a-bd73-b1e89f3c732f"
      },
      "execution_count": null,
      "outputs": [
        {
          "output_type": "stream",
          "name": "stdout",
          "text": [
            "<bound method Model.summary of <keras.engine.sequential.Sequential object at 0x7fc399a80fd0>>\n",
            "94/94 [==============================] - 9s 84ms/step - loss: 0.1906 - accuracy: 0.9610\n"
          ]
        },
        {
          "output_type": "execute_result",
          "data": {
            "text/plain": [
              "Text(33.0, 0.5, 'predicted')"
            ]
          },
          "metadata": {},
          "execution_count": 9
        },
        {
          "output_type": "display_data",
          "data": {
            "text/plain": [
              "<Figure size 432x288 with 2 Axes>"
            ],
            "image/png": "[encoded data removed]"
          },
          "metadata": {
            "needs_background": "light"
          }
        }
      ]
    },
    {
      "cell_type": "markdown",
      "source": [
        "Model evaluation"
      ],
      "metadata": {
        "id": "NdPVZ_HKa2tC"
      }
    },
    {
      "cell_type": "code",
      "source": [
        "loss_train = history.history['loss']\n",
        "loss_val= history.history['val_loss']\n",
        "data = history.history.keys()\n",
        "acc_val = history.history['val_accuracy']\n",
        "acc_train = history.history['accuracy']\n",
        "epochs=range(100)\n",
        "plt.plot(epochs,loss_train,'b',label='Training loss')\n",
        "plt.plot(epochs,loss_val,'g',label='Validation loss')\n",
        "plt.xlabel('Epochs')\n",
        "plt.ylabel('Loss')\n",
        "plt.legend()\n",
        "plt.show()\n",
        "plt.plot(epochs,acc_train,'b',label='training accuracy')\n",
        "plt.plot(epochs,acc_val,'g',label='validation accuracy')\n",
        "plt.title('Training accuracy')\n",
        "plt.xlabel('Epochs')\n",
        "plt.ylabel('Accuracy')\n",
        "plt.legend()\n",
        "plt.show()"
      ],
      "metadata": {
        "colab": {
          "base_uri": "https://localhost:8080/",
          "height": 574
        },
        "id": "J0GOevqyUcFD",
        "outputId": "e4896f52-61ab-4753-f522-ee433bdc8970"
      },
      "execution_count": null,
      "outputs": [
        {
          "output_type": "stream",
          "name": "stdout",
          "text": [
            "dict_keys(['loss', 'accuracy', 'val_loss', 'val_accuracy'])\n"
          ]
        },
        {
          "output_type": "display_data",
          "data": {
            "text/plain": [
              "<Figure size 432x288 with 1 Axes>"
            ],
            "image/png": "[encoded data removed]"
          },
          "metadata": {
            "needs_background": "light"
          }
        },
        {
          "output_type": "display_data",
          "data": {
            "text/plain": [
              "<Figure size 432x288 with 1 Axes>"
            ],
            "image/png": "[encoded data removed]"
          },
          "metadata": {
            "needs_background": "light"
          }
        }
      ]
    }
  ]
}